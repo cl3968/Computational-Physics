{
 "cells": [
  {
   "cell_type": "code",
   "execution_count": 13,
   "metadata": {},
   "outputs": [
    {
     "name": "stdout",
     "output_type": "stream",
     "text": [
      "[  5.83640353  11.18116874  18.663063    29.14450427  42.65555466\n",
      "  59.18594925  78.73030159 101.2867136  126.85294228 155.55724897]\n",
      "[  5.83640313  11.18116742  18.66306113  29.14449547  42.65554554\n",
      "  59.18589666  78.73024976 101.28608267 126.85210998 155.42762815]\n"
     ]
    },
    {
     "data": {
      "image/png": "[encoded data removed]",
      "text/plain": [
       "<Figure size 432x288 with 1 Axes>"
      ]
     },
     "metadata": {
      "needs_background": "light"
     },
     "output_type": "display_data"
    }
   ],
   "source": [
    "#Exercise 6.9\n",
    "from scipy import pi, empty, dot, sqrt, linspace, array, sin\n",
    "from scipy.linalg import eigh, eigvalsh\n",
    "import numpy as np \n",
    "import matplotlib.pyplot as plt \n",
    "\n",
    "# Constants\n",
    "hbar = 6.582119514 * 10 ** -16 # in J * s\n",
    "L = 5 * 10 ** -10 # in m\n",
    "M = 9.1094 * 10 ** -31 # in kg\n",
    "a = 10 # in eV\n",
    "\n",
    "\n",
    "def h(m, n):\n",
    "    def is_same_parity(m, n):\n",
    "        return m % 2 == n % 2\n",
    "    if m == n:\n",
    "        return (pi ** 2 * hbar ** 2 * n ** 2) / (2 * M * L ** 2) * (1.6022 * 10 ** -19) + a / 2\n",
    "    elif not is_same_parity(m, n):\n",
    "        return - 8 * a / (pi ** 2)  * m * n / (m ** 2 - n ** 2) ** 2\n",
    "    else:\n",
    "        return 0\n",
    "\n",
    "\n",
    "# Create H up to 10 x 10 elements\n",
    "H = empty([ 10, 10 ], float)\n",
    "for m in range(10):\n",
    "    for n in range(10):\n",
    "        H[m, n] = h(m + 1, n + 1)\n",
    "\n",
    "E, psi = eigh(H)\n",
    "print(E)\n",
    "\n",
    "# Compare with 100 x 100\n",
    "H = empty([ 100, 100 ], float)\n",
    "for m in range(100):\n",
    "    for n in range(100):\n",
    "        H[m, n] = h(m + 1, n + 1)\n",
    "\n",
    "E, psi = eigh(H)\n",
    "print(E[:10])\n",
    "\n",
    "# plot three lowest energy states\n",
    "\n",
    "def V(x):\n",
    "    return a * x / L\n",
    "\n",
    "def psi_n(n, x):\n",
    "    psi0 = 0\n",
    "    for m in range(100):\n",
    "        psi0 += sqrt(2 / L) * psi[n][m] * sin(pi * (m+1) * x / L)\n",
    "    return psi0\n",
    "\n",
    "def psi_0(x):\n",
    "    return psi_n(0, x)\n",
    "\n",
    "def psi_1(x):\n",
    "    return psi_n(1, x)\n",
    "\n",
    "def psi_2(x):\n",
    "    return psi_n(2, x)\n",
    "\n",
    "def square(x):\n",
    "    return x ** 2\n",
    "\n",
    "x = np.linspace(0, L, 100)\n",
    "v = list(map(V, x))\n",
    "psi0 = np.array(list(map(psi_0, x)))\n",
    "psi1 = np.array(list(map(psi_1, x)))\n",
    "psi2 = np.array(list(map(psi_2, x)))\n",
    "psi0_squared = list(map(square, psi0))\n",
    "psi1_squared = list(map(square, psi1))\n",
    "psi2_squared = list(map(square, psi2))\n",
    "plt.plot(x, psi0_squared, 'ko')\n",
    "plt.plot(x, psi1_squared, 'go')\n",
    "plt.plot(x, psi2_squared, 'bo')\n",
    "plt.plot(x, v)\n",
    "plt.xlabel('x (m)')\n",
    "plt.ylabel('Probability Density')\n",
    "plt.title('Electron in a well')\n",
    "plt.show()"
   ]
  },
  {
   "cell_type": "markdown",
   "metadata": {},
   "source": [
    "a. $$\\psi (x) = \\sum^\\infty_{n=1} \\psi_n sin(\\frac{\\pi n x}{L})$$ $$\\bar{H} = \\frac{-\\hbar^2}{2m} \\frac{d^2}{dx^2}+V(x)$$ Therefore, $\\bar{H}\\psi(x)=E\\psi(x)$ is $$\\sum^\\infty_{n=1}\\psi_n [\\frac{\\hbar^2}{2m}(\\frac{n^2\\pi^2}{L^2})\\frac{2}{L}sin(\\frac{n\\pi x}{L})+V(x)][\\frac{2}{L}sin(\\frac{n\\pi x}{L})]=E[\\sum^\\infty_{n=1}\\psi_n sin(\\frac{n\\pi x}{L})]$$ $$\\psi_m \\frac{\\hbar^2}{2m} (\\frac{n\\pi}{L})^2 + \\sum^\\infty_{n=1} \\psi_n \\frac{2}{L} \\int_0^L dx sin(\\frac{m\\pi x}{L}) V(x) sin(\\frac{n\\pi x}{L})=E\\psi_m$$ $$\\sum^\\infty_{n=1} \\psi_n \\frac{2}{L} \\int_0^\\infty sin(\\frac{m\\pi x}{L})\\bar{H} sin(\\frac{n\\pi x}{L}) = E\\psi_m$$ $$\\sum^\\infty_{n=1} \\psi_n H_{mn} = E \\psi_m$$\n",
    "<br/> c. The starting value of the array, or ground-state energy, is 5.84eV.\n",
    "<br/> d. Comparing the 100x100 array to the 10x10 array calculations, I can conclude that the 100x100 array calculations are more accurate. This is because some values for the 100x100 array have more digits therefore a more accurate measurement. Also, generally the 100x100 array has smaller values. \n",
    "<br/> e. This is true of the wavefunction because the probability density is positive for all three curves."
   ]
  },
  {
   "cell_type": "code",
   "execution_count": null,
   "metadata": {},
   "outputs": [],
   "source": []
  }
 ],
 "metadata": {
  "kernelspec": {
   "display_name": "Python 3",
   "language": "python",
   "name": "python3"
  },
  "language_info": {
   "codemirror_mode": {
    "name": "ipython",
    "version": 3
   },
   "file_extension": ".py",
   "mimetype": "text/x-python",
   "name": "python",
   "nbconvert_exporter": "python",
   "pygments_lexer": "ipython3",
   "version": "3.7.3"
  }
 },
 "nbformat": 4,
 "nbformat_minor": 2
}
