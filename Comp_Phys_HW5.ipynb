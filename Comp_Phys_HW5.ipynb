{
 "cells": [
  {
   "cell_type": "code",
   "execution_count": 2,
   "metadata": {},
   "outputs": [],
   "source": [
    "import matplotlib.pyplot as plt\n",
    "import numpy as np\n",
    "from scipy import special"
   ]
  },
  {
   "cell_type": "code",
   "execution_count": 3,
   "metadata": {},
   "outputs": [],
   "source": [
    "######################################################################\n",
    "#\n",
    "# Functions to calculate integration points and weights for Gaussian\n",
    "# quadrature\n",
    "#\n",
    "# x,w = gaussxw(N) returns integration points x and integration\n",
    "#           weights w such that sum_i w[i]*f(x[i]) is the Nth-order\n",
    "#           Gaussian approximation to the integral int_{-1}^1 f(x) dx\n",
    "# x,w = gaussxwab(N,a,b) returns integration points and weights\n",
    "#           mapped to the interval [a,b], so that sum_i w[i]*f(x[i])\n",
    "#           is the Nth-order Gaussian approximation to the integral\n",
    "#           int_a^b f(x) dx\n",
    "#\n",
    "# This code finds the zeros of the nth Legendre polynomial using\n",
    "# Newton's method, starting from the approximation given in Abramowitz\n",
    "# and Stegun 22.16.6.  The Legendre polynomial itself is evaluated\n",
    "# using the recurrence relation given in Abramowitz and Stegun\n",
    "# 22.7.10.  The function has been checked against other sources for\n",
    "# values of N up to 1000.  It is compatible with version 2 and version\n",
    "# 3 of Python.\n",
    "#\n",
    "# Written by Mark Newman <mejn@umich.edu>, June 4, 2011\n",
    "# You may use, share, or modify this file freely\n",
    "#\n",
    "######################################################################\n",
    "\n",
    "from numpy import ones,copy,cos,tan,pi,linspace\n",
    "\n",
    "def gaussxw(N):\n",
    "\n",
    "    # Initial approximation to roots of the Legendre polynomial\n",
    "    a = linspace(3,4*N-1,N)/(4*N+2)\n",
    "    x = cos(pi*a+1/(8*N*N*tan(a)))\n",
    "\n",
    "    # Find roots using Newton's method\n",
    "    epsilon = 1e-15\n",
    "    delta = 1.0\n",
    "    while delta>epsilon:\n",
    "        p0 = ones(N,float)\n",
    "        p1 = copy(x)\n",
    "        for k in range(1,N):\n",
    "            p0,p1 = p1,((2*k+1)*x*p1-k*p0)/(k+1)\n",
    "        dp = (N+1)*(p0-x*p1)/(1-x*x)\n",
    "        dx = p1/dp\n",
    "        x -= dx\n",
    "        delta = max(abs(dx))\n",
    "\n",
    "    # Calculate the weights\n",
    "    w = 2*(N+1)*(N+1)/(N*N*(1-x*x)*dp*dp)\n",
    "\n",
    "    return x,w\n",
    "\n",
    "def gaussxwab(N,a,b):\n",
    "    x,w = gaussxw(N)\n",
    "    return 0.5*(b-a)*x+0.5*(b+a),0.5*(b-a)*w"
   ]
  },
  {
   "cell_type": "code",
   "execution_count": 20,
   "metadata": {},
   "outputs": [
    {
     "data": {
      "image/png": "[encoded data removed]",
      "text/plain": [
       "<Figure size 432x288 with 1 Axes>"
      ]
     },
     "metadata": {
      "needs_background": "light"
     },
     "output_type": "display_data"
    }
   ],
   "source": [
    "#Problem 5.3\n",
    "#implementation of the error function erf to check your answer\n",
    "def f(x):\n",
    "    return np.exp(-x**2)\n",
    "\n",
    "#I will integrate using Simpson's method and 1000 slices\n",
    "def simpson( f, a, b, N ):\n",
    "    h = (b - a) / N\n",
    "    oddSum = 0\n",
    "    for k in range(1, N, 2):\n",
    "        oddSum += f(a + k*h)\n",
    "\n",
    "    evenSum = 0\n",
    "    for k in range(2, N, 2):\n",
    "        evenSum += f(a + k*h)\n",
    "\n",
    "    I = 1/3*h*(f(a) + f(b) + 4*oddSum + 2*evenSum)\n",
    "    return I\n",
    "\n",
    "\n",
    "def E(x):\n",
    "    a = 0\n",
    "    b = x\n",
    "    N = 1000\n",
    "    I = simpson(f, a, b, N)\n",
    "    return I\n",
    "\n",
    "# make a plot of E(x)\n",
    "points = np.linspace(0, 3)\n",
    "values = np.array(list(map(E, points)))\n",
    "\n",
    "plt.plot(points, values, label = 'Simpson Method')\n",
    "plt.xlabel(\"x\")\n",
    "plt.ylabel(\"E(x)\")\n",
    "plt.title(\"E(x)\")\n",
    "plt.plot(x, np.sqrt(np.pi)/2*special.erf(x), 'r', label = 'erf')\n",
    "plt.legend()\n",
    "plt.show()\n"
   ]
  },
  {
   "cell_type": "code",
   "execution_count": 43,
   "metadata": {},
   "outputs": [
    {
     "name": "stderr",
     "output_type": "stream",
     "text": [
      "/Users/chrisachuu/anaconda3/lib/python3.7/site-packages/ipykernel_launcher.py:4: RuntimeWarning: invalid value encountered in double_scalars\n",
      "  after removing the cwd from sys.path.\n"
     ]
    },
    {
     "data": {
      "image/png": "[encoded data removed]",
      "text/plain": [
       "<Figure size 432x288 with 1 Axes>"
      ]
     },
     "metadata": {
      "needs_background": "light"
     },
     "output_type": "display_data"
    }
   ],
   "source": [
    "err_list = []\n",
    "\n",
    "for i in range(len(values)):\n",
    "    err = ((values[i])-((np.sqrt(np.pi)/2)*special.erf(i))/((np.sqrt(np.pi)/2)*special.erf(i)))\n",
    "    err_list.append(err)\n",
    "    \n",
    "fig = plt.figure()\n",
    "\n",
    "ax1 = fig.add_subplot(2,1,1)\n",
    "ax1.scatter( points, err_list )\n",
    "ax1.set_ylabel('Error')\n",
    "ax1.set_ylabel('x')\n",
    "ax1.title.set_text('Error')\n",
    "plt.show()"
   ]
  },
  {
   "cell_type": "code",
   "execution_count": 22,
   "metadata": {},
   "outputs": [
    {
     "name": "stderr",
     "output_type": "stream",
     "text": [
      "/Users/chrisachuu/anaconda3/lib/python3.7/site-packages/ipykernel_launcher.py:11: RuntimeWarning: divide by zero encountered in double_scalars\n",
      "  # This is added back by InteractiveShellApp.init_path()\n",
      "/Users/chrisachuu/anaconda3/lib/python3.7/site-packages/ipykernel_launcher.py:16: RuntimeWarning: invalid value encountered in double_scalars\n",
      "  app.launch_new_instance()\n"
     ]
    },
    {
     "data": {
      "image/png": "[encoded data removed]",
      "text/plain": [
       "<Figure size 432x288 with 1 Axes>"
      ]
     },
     "metadata": {
      "needs_background": "light"
     },
     "output_type": "display_data"
    }
   ],
   "source": [
    "#Problem 5.10\n",
    "m = 1 # mass\n",
    "N = 20 # number of points for gaussian quadrature\n",
    "\n",
    "#period function\n",
    "def T(a):\n",
    "    def f(x):\n",
    "        def v(y):\n",
    "            return y ** 4\n",
    "\n",
    "        return 1 / np.sqrt(v(a) - v(x))\n",
    "\n",
    "    x, w = gaussxwab(N, 0, a)\n",
    "    integral = 0.0\n",
    "    for k in range(N):\n",
    "        integral += w[k] * f(x[k])\n",
    "\n",
    "    return np.sqrt(8)*integral\n",
    "\n",
    "# make a plot of T for a from 0 to 2\n",
    "a = np.linspace(0, 2, 20)\n",
    "periods = list(map(T, a))\n",
    "plt.plot(a, periods, 'o')\n",
    "plt.xlabel('a (m)')\n",
    "plt.ylabel('T (s)')\n",
    "plt.title('Period vs Amplitude of an anharmonic oscillator')\n",
    "plt.show()\n"
   ]
  },
  {
   "cell_type": "code",
   "execution_count": 10,
   "metadata": {},
   "outputs": [
    {
     "name": "stdout",
     "output_type": "stream",
     "text": [
      "6.493939400514872\n"
     ]
    }
   ],
   "source": [
    "#Problem 5.12\n",
    "def f(z):\n",
    "    return (z / (1 - z) ) ** 3 / (np.exp(z / (1 - z)) - 1) * 1 / (1 - z) ** 2\n",
    "# integrand is pretty smooth, so can use gaussian quadrature\n",
    "N = 50 # points for Gaussian quadrature\n",
    "x, w = gaussxwab(N, 0, 1)\n",
    "integral = 0.0\n",
    "for k in range(N):\n",
    "    integral += w[k] * f(x[k])\n",
    "print(integral)"
   ]
  },
  {
   "cell_type": "code",
   "execution_count": 57,
   "metadata": {},
   "outputs": [],
   "source": [
    "import scipy.constants\n",
    "k = scipy.constants.k #boltzmann constant\n",
    "c = scipy.constants.c #speed of light\n",
    "h = scipy.constants.hbar #hbar\n",
    "A = (pow(k,4)/((4*pow(np.pi,2)*pow(c,2)*pow(h,3)))*integral*(375**4))"
   ]
  },
  {
   "cell_type": "code",
   "execution_count": 64,
   "metadata": {},
   "outputs": [
    {
     "name": "stdout",
     "output_type": "stream",
     "text": [
      "my answer:  5.6703668145534974e-08\n",
      "exact answer:  5.670367e-08\n",
      "error:  -3.27044973121104e-08\n"
     ]
    }
   ],
   "source": [
    "T = 375\n",
    "ans = A/T**4\n",
    "print(\"my answer: \", ans)\n",
    "exact = scipy.constants.sigma\n",
    "print(\"exact answer: \", exact)\n",
    "err = (ans-exact)/(exact)\n",
    "print(\"error: \", err)"
   ]
  },
  {
   "cell_type": "code",
   "execution_count": null,
   "metadata": {},
   "outputs": [],
   "source": []
  }
 ],
 "metadata": {
  "kernelspec": {
   "display_name": "Python 3",
   "language": "python",
   "name": "python3"
  },
  "language_info": {
   "codemirror_mode": {
    "name": "ipython",
    "version": 3
   },
   "file_extension": ".py",
   "mimetype": "text/x-python",
   "name": "python",
   "nbconvert_exporter": "python",
   "pygments_lexer": "ipython3",
   "version": "3.7.3"
  }
 },
 "nbformat": 4,
 "nbformat_minor": 2
}
