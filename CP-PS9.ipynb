{
 "cells": [
  {
   "cell_type": "markdown",
   "metadata": {},
   "source": [
    "Exercise 6.17 (A) \n",
    "$$\\frac{V_2-V_1-V_+}{R_1+R_3}+\\frac{V_2}{R_4}+I_0[e^{(V_2-V_1)/V_T}-1]=0$$\n"
   ]
  },
  {
   "cell_type": "code",
   "execution_count": 13,
   "metadata": {},
   "outputs": [
    {
     "name": "stdout",
     "output_type": "stream",
     "text": [
      "V1 =  3.4469546569654286 Volts\n",
      "V2 =  2.8295680145518567 Volts\n"
     ]
    }
   ],
   "source": [
    "#Exercise 6.17 (B)\n",
    "\n",
    "import numpy as np\n",
    "from scipy import exp, array, dot, log\n",
    "\n",
    "# Constants\n",
    "V_plus = 5  # Volts\n",
    "R1 = 1000  # in ohms\n",
    "R2 = 4000\n",
    "R3 = 3000\n",
    "R4 = 2000\n",
    "I0 = 3 * 10 ** -9  # in amps\n",
    "V_T = 0.05  # volts\n",
    "accuracy = 0.0001  # volts\n",
    "\n",
    "# Using Newton's method\n",
    "def f(arr):\n",
    "    return array([ (arr[0] - V_plus) / R1 + arr[0] / R2 + I0 * (exp((arr[0] - arr[1]) / V_T) - 1) ,\n",
    "                   (V_plus - arr[1]) / R3 - arr[1] / R4 + I0 * (exp((arr[0] - arr[1]) / V_T) - 1)\n",
    "    ],float)\n",
    "\n",
    "def grad_f(arr):\n",
    "    return array([ [ 1 / R1 + 1 / R2 + I0 / V_T * exp((arr[0] - arr[1]) / V_T), -I0 / V_T * exp((arr[0] - arr[1]) / V_T) ],\n",
    "                   [ I0 / V_T * exp((arr[0] - arr[1]) / V_T), -1 / R3 - 1 / R4 - I0 / V_T * exp((arr[0] - arr[1]) / V_T) ] ]\n",
    "    , float)\n",
    "\n",
    "\n",
    "def inverse_matrix(arr):\n",
    "    return 1 / (arr[0, 0] * arr[1, 1] - arr[0, 1] * arr[1, 0]) * array([ [ arr[1, 1], -arr[0, 1] ], [ -arr[1, 0], arr[0, 0] ] ], float)\n",
    "\n",
    "\n",
    "x1 = array([3, 2.4], float)\n",
    "delta_x = dot(inverse_matrix(grad_f(x1)),f(x1))\n",
    "while abs(delta_x[0]) > accuracy or abs(delta_x[1]) > accuracy:\n",
    "    delta_x = dot(inverse_matrix(grad_f(x1)), f(x1))\n",
    "    x1 -= delta_x\n",
    "\n",
    "V_1 = x1[0];\n",
    "V_2 = x1[1];\n",
    "print('V1 = ', V_1, 'Volts')\n",
    "print('V2 = ', V_2, 'Volts')"
   ]
  },
  {
   "cell_type": "code",
   "execution_count": 20,
   "metadata": {},
   "outputs": [
    {
     "name": "stdout",
     "output_type": "stream",
     "text": [
      "V =  0.6173866424135719 Volts\n"
     ]
    }
   ],
   "source": [
    "#Exercise 6.17 (C)\n",
    "\n",
    "print('V = ',V_1-V_2, 'Volts')"
   ]
  },
  {
   "cell_type": "markdown",
   "metadata": {},
   "source": [
    "My results agree with the electronic engineer's rule of thumb for diodes since the voltage across the diode is about 0.06 Volts."
   ]
  },
  {
   "cell_type": "code",
   "execution_count": null,
   "metadata": {},
   "outputs": [],
   "source": []
  }
 ],
 "metadata": {
  "kernelspec": {
   "display_name": "Python 3",
   "language": "python",
   "name": "python3"
  },
  "language_info": {
   "codemirror_mode": {
    "name": "ipython",
    "version": 3
   },
   "file_extension": ".py",
   "mimetype": "text/x-python",
   "name": "python",
   "nbconvert_exporter": "python",
   "pygments_lexer": "ipython3",
   "version": "3.7.3"
  }
 },
 "nbformat": 4,
 "nbformat_minor": 2
}
